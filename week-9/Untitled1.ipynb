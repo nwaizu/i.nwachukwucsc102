{
 "cells": [
  {
   "cell_type": "code",
   "execution_count": 6,
   "id": "066f9d47",
   "metadata": {},
   "outputs": [
    {
     "name": "stdout",
     "output_type": "stream",
     "text": [
      "Enter your username: Matthew\n",
      "Enter your lastname: Agbonrofo\n",
      "Enter your state of origin: Edo\n"
     ]
    },
    {
     "ename": "NameError",
     "evalue": "name 'self' is not defined",
     "output_type": "error",
     "traceback": [
      "\u001b[1;31m---------------------------------------------------------------------------\u001b[0m",
      "\u001b[1;31mNameError\u001b[0m                                 Traceback (most recent call last)",
      "Cell \u001b[1;32mIn[6], line 20\u001b[0m\n\u001b[0;32m     18\u001b[0m bursary_obj \u001b[38;5;241m=\u001b[39m \u001b[38;5;241m15000\u001b[39m\n\u001b[0;32m     19\u001b[0m bursary_obj \u001b[38;5;241m=\u001b[39m \u001b[38;5;241m20000\u001b[39m\n\u001b[1;32m---> 20\u001b[0m \u001b[38;5;28mprint\u001b[39m(\u001b[38;5;124m\"\u001b[39m\u001b[38;5;124mYour bursary is \u001b[39m\u001b[38;5;132;01m{}\u001b[39;00m\u001b[38;5;124m and your allowance is \u001b[39m\u001b[38;5;132;01m{}\u001b[39;00m\u001b[38;5;124m\"\u001b[39m\u001b[38;5;241m.\u001b[39mformat(\u001b[38;5;28;43mself\u001b[39;49m\u001b[38;5;241m.\u001b[39mbursary, \u001b[38;5;28mself\u001b[39m\u001b[38;5;241m.\u001b[39mallowance))\n",
      "\u001b[1;31mNameError\u001b[0m: name 'self' is not defined"
     ]
    }
   ],
   "source": [
    "class FederalBursary:\n",
    "    def __init__(self, name, state):\n",
    "        self.username = name\n",
    "        self.state_of_origin = state\n",
    "    \n",
    "    def bursary(self, amount):\n",
    "        self.bursary = bursay\n",
    "        \n",
    "    def allowance(self, amount):\n",
    "        self.allowance = allowance\n",
    "        \n",
    "name = input(\"Enter your username: \")\n",
    "lastname = input(\"Enter your lastname: \")\n",
    "state = input(\"Enter your state of origin: \")\n",
    "\n",
    "if name == \"Matthew\" and lastname == \"Agbonrofo\" and state == \"Edo\":\n",
    "    bursary_obj = FederalBursary(name, state)\n",
    "    bursary_obj = 15000\n",
    "    bursary_obj = 20000\n",
    "    print(\"Your bursary is {} and your allowance is {}\".format(self.bursary, self.allowance))\n"
   ]
  },
  {
   "cell_type": "code",
   "execution_count": null,
   "id": "60f8dff1",
   "metadata": {},
   "outputs": [],
   "source": []
  }
 ],
 "metadata": {
  "kernelspec": {
   "display_name": "Python 3 (ipykernel)",
   "language": "python",
   "name": "python3"
  },
  "language_info": {
   "codemirror_mode": {
    "name": "ipython",
    "version": 3
   },
   "file_extension": ".py",
   "mimetype": "text/x-python",
   "name": "python",
   "nbconvert_exporter": "python",
   "pygments_lexer": "ipython3",
   "version": "3.10.9"
  }
 },
 "nbformat": 4,
 "nbformat_minor": 5
}
