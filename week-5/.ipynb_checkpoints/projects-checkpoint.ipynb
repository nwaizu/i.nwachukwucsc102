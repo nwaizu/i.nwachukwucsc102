{
 "cells": [
  {
   "cell_type": "code",
   "execution_count": 13,
   "id": "9cc3fe64",
   "metadata": {},
   "outputs": [
    {
     "name": "stdout",
     "output_type": "stream",
     "text": [
      "Name| Age| Height | Score\n",
      "Samantha| 17| 5.5   | 80\n",
      "Jada| 16| 6.0   | 85\n",
      "Jane| 17| 5.4   | 70\n",
      "Claire| 18| 5.9   | 60\n",
      "Elizabeth| 16| 5.6   | 76\n",
      "Mary| 18| 5.5   | 66\n",
      "Susan| 17| 6.1   | 87\n",
      "Waje| 20| 6.0   | 95\n",
      "Taibat| 19| 5.7   | 50\n",
      "Lilian| 17| 5.5   | 49\n",
      "Charles| 19| 5.7   | 74\n",
      "Jude| 16| 5.9   | 87\n",
      "James| 18| 5.8   | 75\n",
      "Kelvin| 17| 6.1   | 68\n",
      "Biodun| 20| 5.9   | 66\n",
      "Wale| 19| 5.5   | 78\n",
      "Kunle| 16| 6.1   | 87\n",
      "Matthew| 18| 5.4   | 98\n",
      "Tom| 17| 5.8   | 54\n",
      "Kayode| 19| 5.7   | 60\n"
     ]
    }
   ],
   "source": [
    "# Girls data\n",
    "girl_names = ['Samantha', 'Jada', 'Jane', 'Claire', 'Elizabeth', 'Mary', 'Susan', 'Waje', 'Taibat', 'Lilian']\n",
    "girl_age = [17, 16, 17, 18, 16, 18, 17, 20, 19, 17]\n",
    "girl_height = [5.5, 6.0, 5.4, 5.9, 5.6, 5.5, 6.1, 6.0, 5.7, 5.5]\n",
    "girl_score = [80, 85, 70, 60, 76, 66, 87, 95, 50, 49]\n",
    "\n",
    "# Boys data\n",
    "boy_names = ['Charles', 'Jude', 'James', 'Kelvin', 'Biodun', 'Wale', 'Kunle', 'Matthew', 'Tom', 'Kayode']\n",
    "boy_age = [19, 16, 18, 17, 20, 19, 16, 18, 17, 19]\n",
    "boy_height = [5.7, 5.9, 5.8, 6.1, 5.9, 5.5, 6.1, 5.4, 5.8, 5.7]\n",
    "boy_score = [74, 87, 75, 68, 66, 78, 87, 98, 54, 60]\n",
    "\n",
    "# Print table \n",
    "print(\"Name| Age| Height | Score\")\n",
    "\n",
    "# Print girl data\n",
    "for i in range(len(girl_names)):\n",
    "    print(f\"{girl_names[i]}| {girl_age[i]}| {girl_height[i]}   | {girl_score[i]}\")\n",
    "\n",
    "# Print boy data\n",
    "for i in range(len(boy_names)):\n",
    "    print(f\"{boy_names[i]}| {boy_age[i]}| {boy_height[i]}   | {boy_score[i]}\")\n"
   ]
  },
  {
   "cell_type": "code",
   "execution_count": null,
   "id": "d8323c1f",
   "metadata": {},
   "outputs": [],
   "source": [
    "print(\"Good day sir/ma \")\n",
    "age = int(input(\"How old are you?: \"))\n",
    "years_of_experience = int(input(\"How many years of experience do you have?: \"))\n",
    "    \n",
    "if years_of_experience > 25 and age >= 55:\n",
    "        print(\" Your estimated Annual Tax Revenue is N5,600,000\" )\n",
    "elif years_of_experience > 20 and age >= 45:\n",
    "         print(\" Your estimated Annual Tax Revenue is N4,480,000\" )\n",
    "elif years_of_experience > 10 and age >= 35:\n",
    "         print(\" Your estimated Annual Tax Revenue is N1,500,000\" )\n",
    "else:\n",
    "         print(\" Your estimated Annual Tax Revenue is N550,000\" )\n",
    "\n",
    "\n"
   ]
  },
  {
   "cell_type": "code",
   "execution_count": null,
   "id": "49bd2ee6",
   "metadata": {},
   "outputs": [],
   "source": []
  },
  {
   "cell_type": "code",
   "execution_count": null,
   "id": "6608975a",
   "metadata": {},
   "outputs": [],
   "source": []
  }
 ],
 "metadata": {
  "kernelspec": {
   "display_name": "Python 3 (ipykernel)",
   "language": "python",
   "name": "python3"
  },
  "language_info": {
   "codemirror_mode": {
    "name": "ipython",
    "version": 3
   },
   "file_extension": ".py",
   "mimetype": "text/x-python",
   "name": "python",
   "nbconvert_exporter": "python",
   "pygments_lexer": "ipython3",
   "version": "3.10.9"
  }
 },
 "nbformat": 4,
 "nbformat_minor": 5
}
