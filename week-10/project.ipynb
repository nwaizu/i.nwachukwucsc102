{
 "cells": [
  {
   "cell_type": "code",
   "execution_count": null,
   "id": "4e4daac5",
   "metadata": {},
   "outputs": [],
   "source": [
    "class Formula:\n",
    "    def trapezium(self):\n",
    "        print(\"Input the following variables:\")\n",
    "        height = float(input(\"Height: \"))\n",
    "        base1 = float(input(\"First base: \"))\n",
    "        base2 = float(input(\"Second base: \"))\n",
    "        a = (height / 2) * (base1 + base2)\n",
    "        print(\"The Area of the Trapezium is\", a)\n",
    "\n",
    "    def rhombus(self):\n",
    "        print(\"Input the following variables:\")\n",
    "        diagonal1 = float(input(\"First diagonal: \"))\n",
    "        diagonal2 = float(input(\"Second diagonal: \"))\n",
    "        b = (1 / 2) * (diagonal1 * diagonal2)\n",
    "        print(\"The Area of the Rhombus is\", b)\n",
    "\n",
    "    def parallelogram(self):\n",
    "        print(\"Input the following variables:\")\n",
    "        base = float(input(\"Base: \"))\n",
    "        altitude = float(input(\"Altitude: \"))\n",
    "        c = base * altitude\n",
    "        print(\"The Area of the parallelogram is\", c)\n",
    "\n",
    "    def cube(self):\n",
    "        print(\"Input the following variables:\")\n",
    "        length = float(input(\"Length of the side: \"))\n",
    "        d = 6 * (length * length)\n",
    "        print(\"The Surface Area of the Cube is\", d)\n",
    "\n",
    "    def cylinder(self):\n",
    "        print(\"Input the following variables:\")\n",
    "        radius = float(input(\"Radius: \"))\n",
    "        height = float(input(\"Height: \"))\n",
    "        pi = 22 / 7\n",
    "        volume = pi * (radius * radius) * height\n",
    "        print(\"The Volume of the Cylinder is\", volume)\n",
    "\n",
    "\n",
    "formula = Formula()\n",
    "calculations = int(input(\n",
    "    \"What would you like to calculate?\\n1. Area of Trapezium.\\n2. Area of Rhombus.\\n3. Area of Parallelogram.\\n4. Surface Area of a Cube.\\n5. Volume of a Cylinder\\n\"))\n",
    "\n",
    "if calculations == 1:\n",
    "    formula.trapezium()\n",
    "elif calculations == 2:\n",
    "    formula.rhombus()\n",
    "elif calculations == 3:\n",
    "    formula.parallelogram()\n",
    "elif calculations == 4:\n",
    "    formula.cube()\n",
    "elif calculations == 5:\n",
    "    formula.cylinder()\n",
    "else:\n",
    "    print(\"Invalid choice.\")\n"
   ]
  },
  {
   "cell_type": "code",
   "execution_count": null,
   "id": "44e082be",
   "metadata": {},
   "outputs": [],
   "source": []
  }
 ],
 "metadata": {
  "kernelspec": {
   "display_name": "Python 3 (ipykernel)",
   "language": "python",
   "name": "python3"
  },
  "language_info": {
   "codemirror_mode": {
    "name": "ipython",
    "version": 3
   },
   "file_extension": ".py",
   "mimetype": "text/x-python",
   "name": "python",
   "nbconvert_exporter": "python",
   "pygments_lexer": "ipython3",
   "version": "3.10.9"
  }
 },
 "nbformat": 4,
 "nbformat_minor": 5
}
