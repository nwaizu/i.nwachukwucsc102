{
 "cells": [
  {
   "cell_type": "code",
   "execution_count": null,
   "id": "f20fcc5d",
   "metadata": {},
   "outputs": [],
   "source": [
    "# From the cubic equation: AX^3 + BX^2 + CX + D\n",
    "A = float(input(\" Input the value of A: \"))\n",
    "B = float(input(\" Input the value of B: \"))\n",
    "C = float(input(\" Input the value of C: \"))\n",
    "D = float(input(\" Input the value of D: \"))\n",
    "\n",
    "# Divide through by A\n",
    "a1 = B / A\n",
    "a2 = C / A\n",
    "a3 = D / A\n",
    "i = ( -1 ) ** 1 / 2\n",
    "\n",
    "# Find Q,R,S,T\n",
    "Q = ((3 * a2) - (a1 ** 2)) / 9\n",
    "R = ((9 * a1 * a2) - (27 * a3) - ((2 * a1) ** 3)) / 54\n",
    "S = ((R + (((Q) ** 3) + ((R) ** 2)) ** 1/2)) ** 1/3\n",
    "T = ((R - (((Q) ** 3) + ((R) ** 2)) ** 1/2)) ** 1/3\n",
    "\n",
    "# Find x1,x2,x3\n",
    "x1 = S + T - (1 / 3 * a1)\n",
    "x2 = - (1 / 2) * (S + T) - ((1 / 3) * a1 ) +  ((((1 / 2) * i) * ((3) ** 1 / 2)) * (S - T))\n",
    "x2 = - (1 / 2) * (S + T) - ((1 / 3) * a1 ) -  ((((1 / 2) * i) * ((3) ** 1 / 2)) * (S - T))\n",
    "\n",
    "print(f\"The roots of this Cubice equation are {x1}, {x2} and {x3}.\")\n"
   ]
  },
  {
   "cell_type": "code",
   "execution_count": null,
   "id": "197ab9cc",
   "metadata": {},
   "outputs": [],
   "source": [
    "# From the cubic equation: AX^3 + BX^2 + CX + D\n",
    "A = float(input(\" Input the value of A: \"))\n",
    "B = float(input(\" Input the value of B: \"))\n",
    "C = float(input(\" Input the value of C: \"))\n",
    "D = float(input(\" Input the value of D: \"))\n",
    "\n",
    "# Divide through by A\n",
    "a1 = B / A\n",
    "a2 = C / A\n",
    "a3 = D / A\n",
    "i = ( -1 ) ** 1 / 2\n",
    "\n",
    "# Find Q,R,S,T\n",
    "Q = ((3 * a2) - (a1 ** 2)) / 9\n",
    "R = ((9 * a1 * a2) - (27 * a3) - ((2 * a1) ** 3)) / 54\n",
    "S = ((R + (((Q) ** 3) + ((R) ** 2)) ** 1/2)) ** 1/3\n",
    "T = ((R - (((Q) ** 3) + ((R) ** 2)) ** 1/2)) ** 1/3\n",
    "\n",
    "# Find x1,x2,x3\n",
    "x1 = S + T - (1 / 3 * a1)\n",
    "x2 = - (1 / 2) * (S + T) - ((1 / 3) * a1 ) +  ((((1 / 2) * i) * ((3) ** 1 / 2)) * (S - T))\n",
    "x3 = - (1 / 2) * (S + T) - ((1 / 3) * a1 ) -  ((((1 / 2) * i) * ((3) ** 1 / 2)) * (S - T))\n",
    "\n",
    "print(f\"The roots of this Cubice equation are {x1}, {x2} and {x3}.\")\n"
   ]
  },
  {
   "cell_type": "code",
   "execution_count": null,
   "id": "277bc5d6",
   "metadata": {},
   "outputs": [],
   "source": []
  },
  {
   "cell_type": "code",
   "execution_count": null,
   "id": "7c93d85c",
   "metadata": {},
   "outputs": [],
   "source": []
  }
 ],
 "metadata": {
  "kernelspec": {
   "display_name": "Python 3 (ipykernel)",
   "language": "python",
   "name": "python3"
  },
  "language_info": {
   "codemirror_mode": {
    "name": "ipython",
    "version": 3
   },
   "file_extension": ".py",
   "mimetype": "text/x-python",
   "name": "python",
   "nbconvert_exporter": "python",
   "pygments_lexer": "ipython3",
   "version": "3.10.9"
  }
 },
 "nbformat": 4,
 "nbformat_minor": 5
}
