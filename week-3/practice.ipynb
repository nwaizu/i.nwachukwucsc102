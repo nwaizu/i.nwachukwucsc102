{
 "cells": [
  {
   "cell_type": "code",
   "execution_count": 7,
   "id": "9a5a68fd",
   "metadata": {},
   "outputs": [
    {
     "name": "stdout",
     "output_type": "stream",
     "text": [
      "Enter your state of origin. Enugu\n",
      "Your state of origin is:  Enugu\n",
      "The first character is: E\n",
      "The characters starting from 3rd to 5th are:  ugu\n",
      "The string starting from 3rd character is:  ugu\n",
      "State of origin two times EnuguEnugu\n"
     ]
    }
   ],
   "source": [
    "str = input(\"Enter your state of origin. \")\n",
    "\n",
    "print (\"Your state of origin is: \",str)\n",
    "print (\"The first character is:\", str[0])\n",
    "print (\"The characters starting from 3rd to 5th are: \",str[2:5])\n",
    "print (\"The string starting from 3rd character is: \",str[2:])\n",
    "print (\"State of origin two times\", str * 2)\n"
   ]
  },
  {
   "cell_type": "code",
   "execution_count": 8,
   "id": "d3709604",
   "metadata": {},
   "outputs": [
    {
     "name": "stdout",
     "output_type": "stream",
     "text": [
      "Enter mass in kilograms: 70\n",
      "The energy equivalent to 70.0 kg of mass is 6.291286251157723e+18 joules.\n"
     ]
    }
   ],
   "source": [
    "# Input from user \n",
    "m = float(input(\"Enter mass in kilograms: \"))\n",
    "\n",
    "# Constant value for the speed of light in m/s\n",
    "c = 299792458\n",
    "\n",
    "# Calculating energy using Einstein's equation\n",
    "energy = m * c ** 2\n",
    "\n",
    "# Displaying the result\n",
    "print(f\"The energy equivalent to {m} kg of mass is {energy} joules.\")"
   ]
  },
  {
   "cell_type": "code",
   "execution_count": 10,
   "id": "07b138a9",
   "metadata": {},
   "outputs": [
    {
     "name": "stdout",
     "output_type": "stream",
     "text": [
      "['Anaconda', 786, 2.23, 'Jupyter', 70.2]\n",
      "Anaconda\n",
      "[786, 2.23]\n",
      "[2.23, 'Jupyter', 70.2]\n",
      "[321, 'Python', 321, 'Python']\n",
      "['Anaconda', 786, 2.23, 'Jupyter', 70.2, 321, 'Python']\n"
     ]
    }
   ],
   "source": [
    "list = [ 'Anaconda', 786, 2.23, 'Jupyter', 70.2 ]\n",
    "shortlist = [321, 'Python']\n",
    "\n",
    "print(list) \n",
    "''' Prints complete list'''\n",
    "print(list[0])       # Prints first element of the list\n",
    "print(list[1:3])     # Prints elements starting from 2nd till 3rd\n",
    "print(list[2:])     \n",
    "''' Prints elements starting from 3rd element'''\n",
    "print(shortlist * 2)   # Prints list two times\n",
    "print(list + shortlist)# Prints concatenated lists"
   ]
  },
  {
   "cell_type": "code",
   "execution_count": 11,
   "id": "692e67bc",
   "metadata": {},
   "outputs": [
    {
     "name": "stdout",
     "output_type": "stream",
     "text": [
      "('Ekiti', 750, 'Oshogbo', 250, 'Akure', 500)\n",
      "500\n",
      "('Oshogbo', 250)\n",
      "(250, 'Akure', 500)\n",
      "('Abeokuta', 300, 'Ogbomoso', 'Abeokuta', 300, 'Ogbomoso', 'Abeokuta', 300, 'Ogbomoso')\n",
      "('Ekiti', 750, 'Oshogbo', 250, 'Akure', 500, 'Abeokuta', 300, 'Ogbomoso')\n"
     ]
    }
   ],
   "source": [
    "tuple = (\"Ekiti\", 750, 'Oshogbo', 250, \"Akure\", 500)\n",
    "s_tuple = (\"Abeokuta\", 300, \"Ogbomoso\")\n",
    "\n",
    "# Prints the complete tuple\n",
    "print (tuple)\n",
    "\n",
    "# Prints last element of the tuple\n",
    "print (tuple[-1])\n",
    "\n",
    "# Prints elements of the tuple starting from 2nd till 3rd\n",
    "print (tuple[2:4])\n",
    "\n",
    "# Prints elements of the tuple starting from 3rd element\n",
    "print (tuple[3:])\n",
    "\n",
    "# Prints the contents of the tuple twice\n",
    "print (s_tuple * 3)\n",
    "\n",
    "# Prints concatenated tuples\n",
    "print (tuple + s_tuple)\n"
   ]
  },
  {
   "cell_type": "code",
   "execution_count": 13,
   "id": "b5571654",
   "metadata": {},
   "outputs": [
    {
     "name": "stdout",
     "output_type": "stream",
     "text": [
      "False\n",
      "False\n",
      "False\n",
      "False\n",
      "True\n"
     ]
    }
   ],
   "source": [
    "# Returns false as game_1 is not equal to game_2\n",
    "game_1 = 2\n",
    "game_2 = 4\n",
    "print(bool(game_1 == game_2))\n",
    "# Or\n",
    "print(game_1 == game_2)\n",
    "\n",
    "# Returns False as val is None\\\n",
    "val = None\n",
    "print(bool(val))\n",
    "\n",
    "# Returns false as num is an empty sequence \n",
    "num = ()\n",
    "print(bool(num))\n",
    "\n",
    "# Returns true as age is boolean\n",
    "age = True \n",
    "print(bool(age))"
   ]
  },
  {
   "cell_type": "code",
   "execution_count": 14,
   "id": "fea25d69",
   "metadata": {},
   "outputs": [
    {
     "name": "stdout",
     "output_type": "stream",
     "text": [
      "Grade = 70\n",
      "GPA = 4\n",
      "CGPA = 4\n"
     ]
    }
   ],
   "source": [
    "# Convert to int\n",
    "\n",
    "grade = int(70)     # grade will be 70\n",
    "gpa = int(4.9)       # gpa will be 4.9\n",
    "cgpa = int(\"4\")     # cgpa will be 4\n",
    "\n",
    "print(f\"Grade = {grade}\")\n",
    "print(f\"GPA = {gpa}\")\n",
    "print(f\"CGPA = {cgpa}\")\n",
    "\n"
   ]
  },
  {
   "cell_type": "code",
   "execution_count": 16,
   "id": "05a40718",
   "metadata": {},
   "outputs": [
    {
     "name": "stdout",
     "output_type": "stream",
     "text": [
      "Grade = 97.0\n",
      "GPA = 5.0\n",
      "CGPA = 4.7\n"
     ]
    }
   ],
   "source": [
    "# Convert to float \n",
    "\n",
    "grade = float(97)\n",
    "gpa = float(5)\n",
    "cgpa = float(\"4.7\")\n",
    "\n",
    "print(f\"Grade = {grade}\")\n",
    "print(f\"GPA = {gpa}\")\n",
    "print(f\"CGPA = {cgpa}\")\n",
    "\n"
   ]
  },
  {
   "cell_type": "code",
   "execution_count": null,
   "id": "03febd08",
   "metadata": {},
   "outputs": [],
   "source": []
  }
 ],
 "metadata": {
  "kernelspec": {
   "display_name": "Python 3 (ipykernel)",
   "language": "python",
   "name": "python3"
  },
  "language_info": {
   "codemirror_mode": {
    "name": "ipython",
    "version": 3
   },
   "file_extension": ".py",
   "mimetype": "text/x-python",
   "name": "python",
   "nbconvert_exporter": "python",
   "pygments_lexer": "ipython3",
   "version": "3.10.9"
  }
 },
 "nbformat": 4,
 "nbformat_minor": 5
}
