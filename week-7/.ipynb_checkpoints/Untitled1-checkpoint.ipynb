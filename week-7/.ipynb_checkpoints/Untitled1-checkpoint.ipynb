{
 "cells": [
  {
   "cell_type": "code",
   "execution_count": 7,
   "id": "9dee55e7",
   "metadata": {},
   "outputs": [
    {
     "ename": "SyntaxError",
     "evalue": "invalid syntax (1883493220.py, line 6)",
     "output_type": "error",
     "traceback": [
      "\u001b[1;36m  Cell \u001b[1;32mIn[7], line 6\u001b[1;36m\u001b[0m\n\u001b[1;33m    let a = Name\u001b[0m\n\u001b[1;37m        ^\u001b[0m\n\u001b[1;31mSyntaxError\u001b[0m\u001b[1;31m:\u001b[0m invalid syntax\n"
     ]
    }
   ],
   "source": [
    "import csv\n",
    "\n",
    "Name = print(input(\"What is your full name?: \"))\n",
    "Department = print(input(\"What is your department?: \"))\n",
    "\n",
    "let a = Name\n",
    "let b = Department\n",
    "\n",
    "def verify_employee(Name, Department):\n",
    "    with open('jt-ventures.csv', mode='r') as csv_file:\n",
    "        csv_reader = csv.DictReader(csv_file)\n",
    "        for row in csv_reader:\n",
    "            if row['Surname'] == name and row['Department'] == department:\n",
    "                print(f\"Welcome, {name}!\")\n",
    "                print(\"Company Profile:\")\n",
    "                print(f\"Name: {row['Company Name']}\")\n",
    "                print(f\"Address: {row['Address']}\")\n",
    "                print(f\"Phone Number: {row['Phone Number']}\")\n",
    "                return\n",
    "        print(\"Sorry, the employee does not exist.\")\n",
    "        return;\n",
    "    return;\n",
    "\n",
    "verify_employee(a, b)"
   ]
  }
 ],
 "metadata": {
  "kernelspec": {
   "display_name": "Python 3 (ipykernel)",
   "language": "python",
   "name": "python3"
  },
  "language_info": {
   "codemirror_mode": {
    "name": "ipython",
    "version": 3
   },
   "file_extension": ".py",
   "mimetype": "text/x-python",
   "name": "python",
   "nbconvert_exporter": "python",
   "pygments_lexer": "ipython3",
   "version": "3.10.9"
  }
 },
 "nbformat": 4,
 "nbformat_minor": 5
}
